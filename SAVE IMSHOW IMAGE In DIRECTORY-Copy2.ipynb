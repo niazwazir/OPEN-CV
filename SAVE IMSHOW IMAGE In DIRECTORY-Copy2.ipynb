{
 "cells": [
  {
   "cell_type": "code",
   "execution_count": null,
   "metadata": {},
   "outputs": [],
   "source": [
    "import cv2\n",
    "imgpath = \"/home/wazir/ABC/CASIS-OpenCV-Course/Python-OpenCV3/Dataset/mandril_color.tif\"\n",
    "img = cv2.imread(imgpath)\n",
    "cv2.imshow('Baboon', img)\n",
    "cv2.waitKey(0) #press any kew image out\n",
    "cv2.destroyAllWindows()"
   ]
  },
  {
   "cell_type": "code",
   "execution_count": null,
   "metadata": {},
   "outputs": [],
   "source": [
    "#CONVERT GRAY SCALE IMAGE\n",
    "import cv2\n",
    "imgpath = \"/home/wazir/ABC/CASIS-OpenCV-Course/Python-OpenCV3/Dataset/mandril_color.tif\"\n",
    "img = cv2.imread(imgpath,0)\n",
    "cv2.imshow('Baboon', img)\n",
    "cv2.waitKey(0) #press any kew image out\n",
    "cv2.destroyAllWindows()"
   ]
  },
  {
   "cell_type": "code",
   "execution_count": 7,
   "metadata": {},
   "outputs": [],
   "source": [
    "#HOW SAVE THE IMSHOW IMAGE IN DIRECTORY\n",
    "import cv2\n",
    "imgpath = \"/home/wazir/ABC/CASIS-OpenCV-Course/Python-OpenCV3/Dataset/mandril_color.tif\"\n",
    "img = cv2.imread(imgpath)\n",
    "outpath = \"/home/wazir/ABC/CASIS-OpenCV-Course/Python-OpenCV3/Niaz/mandril_color.jpg\"\n",
    "cv2.imshow('Baboon', img)\n",
    "cv2.imwrite(outpath, img)\n",
    "cv2.waitKey(0)\n",
    "cv2.destroyAllWindows()\n",
    "    "
   ]
  },
  {
   "cell_type": "code",
   "execution_count": null,
   "metadata": {},
   "outputs": [],
   "source": [
    "\n"
   ]
  }
 ],
 "metadata": {
  "kernelspec": {
   "display_name": "Python 3",
   "language": "python",
   "name": "python3"
  },
  "language_info": {
   "codemirror_mode": {
    "name": "ipython",
    "version": 3
   },
   "file_extension": ".py",
   "mimetype": "text/x-python",
   "name": "python",
   "nbconvert_exporter": "python",
   "pygments_lexer": "ipython3",
   "version": "3.5.2"
  }
 },
 "nbformat": 4,
 "nbformat_minor": 2
}

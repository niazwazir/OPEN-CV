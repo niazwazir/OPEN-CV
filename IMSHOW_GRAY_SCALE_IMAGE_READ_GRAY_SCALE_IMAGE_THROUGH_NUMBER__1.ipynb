{
 "cells": [
  {
   "cell_type": "code",
   "execution_count": 1,
   "id": "8ff127a8",
   "metadata": {},
   "outputs": [],
   "source": [
    "#PRESS Q TO QUIT FROM SCREEN\n",
    "#READ A COLOR IMAGE\n",
    "#OPEN CV USED BGR\n",
    "#MATPLOTLIB USED RGB\n",
    "import cv2\n",
    "import numpy as np\n",
    "from matplotlib import pyplot as plt"
   ]
  },
  {
   "cell_type": "code",
   "execution_count": 2,
   "id": "d579aefe",
   "metadata": {},
   "outputs": [],
   "source": [
    "#Rather than using IMREAD_COLOR...etc, you can also use \n",
    "#simple numbers. You should be familiar with both options, \n",
    "#so you understand what the person is doing. For the \n",
    "#second parameter, you can use -1, 0, or 1. Color is 1, \n",
    "#grayscale is 0, and the unchanged is -1. Thus, for grayscale, \n",
    "#one could do img = cv2.imread('watch.jpg', 0)"
   ]
  },
  {
   "cell_type": "code",
   "execution_count": 3,
   "id": "a44cd3a5",
   "metadata": {},
   "outputs": [],
   "source": [
    "img = cv2.imread('baby.png',-1)\n",
    "cv2.imshow('image',img)\n",
    "cv2.waitKey(0)\n",
    "cv2.destroyAllWindows()"
   ]
  },
  {
   "cell_type": "code",
   "execution_count": null,
   "id": "e4b41b20",
   "metadata": {},
   "outputs": [],
   "source": []
  }
 ],
 "metadata": {
  "kernelspec": {
   "display_name": "cuda_tf",
   "language": "python",
   "name": "cuda_tf"
  },
  "language_info": {
   "codemirror_mode": {
    "name": "ipython",
    "version": 3
   },
   "file_extension": ".py",
   "mimetype": "text/x-python",
   "name": "python",
   "nbconvert_exporter": "python",
   "pygments_lexer": "ipython3",
   "version": "3.9.12"
  }
 },
 "nbformat": 4,
 "nbformat_minor": 5
}

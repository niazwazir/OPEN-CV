{
 "cells": [
  {
   "cell_type": "code",
   "execution_count": 1,
   "id": "448a7ccd",
   "metadata": {},
   "outputs": [],
   "source": [
    "#PRESS Q TO QUIT FROM SCREEN\n",
    "#READ A COLOR IMAGE\n",
    "#OPEN CV USED BGR\n",
    "#MATPLOTLIB USED RGB\n",
    "import cv2\n",
    "import numpy as np\n",
    "from matplotlib import pyplot as plt"
   ]
  },
  {
   "cell_type": "code",
   "execution_count": 2,
   "id": "ec47c04b",
   "metadata": {},
   "outputs": [],
   "source": [
    "img = cv2.imread('butterfly.png')\n",
    "cv2.imshow('image',img)\n",
    "cv2.waitKey(0)\n",
    "cv2.destroyAllWindows()"
   ]
  },
  {
   "cell_type": "code",
   "execution_count": null,
   "id": "bcbdb3d9",
   "metadata": {},
   "outputs": [],
   "source": []
  }
 ],
 "metadata": {
  "kernelspec": {
   "display_name": "cuda_tf",
   "language": "python",
   "name": "cuda_tf"
  },
  "language_info": {
   "codemirror_mode": {
    "name": "ipython",
    "version": 3
   },
   "file_extension": ".py",
   "mimetype": "text/x-python",
   "name": "python",
   "nbconvert_exporter": "python",
   "pygments_lexer": "ipython3",
   "version": "3.9.12"
  }
 },
 "nbformat": 4,
 "nbformat_minor": 5
}

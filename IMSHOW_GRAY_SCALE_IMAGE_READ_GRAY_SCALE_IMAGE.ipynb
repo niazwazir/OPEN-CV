{
 "cells": [
  {
   "cell_type": "code",
   "execution_count": 1,
   "id": "20fd995d",
   "metadata": {},
   "outputs": [],
   "source": [
    "#PRESS Q TO QUIT FROM SCREEN\n",
    "#READ A COLOR IMAGE\n",
    "#OPEN CV USED BGR\n",
    "#MATPLOTLIB USED RGB\n",
    "import cv2\n",
    "import numpy as np\n",
    "from matplotlib import pyplot as plt"
   ]
  },
  {
   "cell_type": "code",
   "execution_count": 2,
   "id": "b9835837",
   "metadata": {},
   "outputs": [],
   "source": [
    "img = cv2.imread('baby.png',cv2.IMREAD_GRAYSCALE)\n",
    "cv2.imshow('image',img)\n",
    "cv2.waitKey(0)\n",
    "cv2.destroyAllWindows()"
   ]
  },
  {
   "cell_type": "code",
   "execution_count": null,
   "id": "9a73056b",
   "metadata": {},
   "outputs": [],
   "source": []
  },
  {
   "cell_type": "code",
   "execution_count": 4,
   "id": "d8367f50",
   "metadata": {},
   "outputs": [
    {
     "ename": "NameError",
     "evalue": "name 'figure' is not defined",
     "output_type": "error",
     "traceback": [
      "\u001b[1;31m---------------------------------------------------------------------------\u001b[0m",
      "\u001b[1;31mNameError\u001b[0m                                 Traceback (most recent call last)",
      "Input \u001b[1;32mIn [4]\u001b[0m, in \u001b[0;36m<cell line: 4>\u001b[1;34m()\u001b[0m\n\u001b[0;32m      1\u001b[0m \u001b[38;5;66;03m# %cd (yourdirectory)\u001b[39;00m\n\u001b[0;32m      2\u001b[0m \u001b[38;5;66;03m# %ls *.png\u001b[39;00m\n\u001b[0;32m      3\u001b[0m img \u001b[38;5;241m=\u001b[39m cv2\u001b[38;5;241m.\u001b[39mimread(\u001b[38;5;124m'\u001b[39m\u001b[38;5;124mbutterfly.png\u001b[39m\u001b[38;5;124m'\u001b[39m)\n\u001b[1;32m----> 4\u001b[0m \u001b[43mfigure\u001b[49m()\n\u001b[0;32m      5\u001b[0m imshow(img)\n",
      "\u001b[1;31mNameError\u001b[0m: name 'figure' is not defined"
     ]
    }
   ],
   "source": [
    "# %cd (yourdirectory)\n",
    "# %ls *.png\n",
    "img = cv2.imread('butterfly.png')\n",
    "figure()\n",
    "imshow(img)"
   ]
  },
  {
   "cell_type": "code",
   "execution_count": null,
   "id": "826f453c",
   "metadata": {},
   "outputs": [],
   "source": []
  },
  {
   "cell_type": "code",
   "execution_count": 3,
   "id": "3bea476f",
   "metadata": {},
   "outputs": [],
   "source": [
    "img = cv2.imread('baby.png',1)\n",
    "cv2.imshow('image',img)\n",
    "cv2.waitKey(0)\n",
    "cv2.destroyAllWindows()"
   ]
  },
  {
   "cell_type": "code",
   "execution_count": null,
   "id": "af0af029",
   "metadata": {},
   "outputs": [],
   "source": [
    "img = cv2.imread('baby.png',0)\n",
    "cv2.imshow('image',img)\n",
    "cv2.waitKey(0)\n",
    "cv2.destroyAllWindows()"
   ]
  },
  {
   "cell_type": "code",
   "execution_count": null,
   "id": "5f02af12",
   "metadata": {},
   "outputs": [],
   "source": [
    "img = cv2.imread('baby.png',-1)\n",
    "cv2.imshow('image',img)\n",
    "cv2.waitKey(0)\n",
    "cv2.destroyAllWindows()"
   ]
  },
  {
   "cell_type": "code",
   "execution_count": null,
   "id": "be196cee",
   "metadata": {},
   "outputs": [],
   "source": []
  }
 ],
 "metadata": {
  "kernelspec": {
   "display_name": "cuda_tf",
   "language": "python",
   "name": "cuda_tf"
  },
  "language_info": {
   "codemirror_mode": {
    "name": "ipython",
    "version": 3
   },
   "file_extension": ".py",
   "mimetype": "text/x-python",
   "name": "python",
   "nbconvert_exporter": "python",
   "pygments_lexer": "ipython3",
   "version": "3.9.12"
  }
 },
 "nbformat": 4,
 "nbformat_minor": 5
}

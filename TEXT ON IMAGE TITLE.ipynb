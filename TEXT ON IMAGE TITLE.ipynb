{
 "cells": [
  {
   "cell_type": "markdown",
   "metadata": {
    "nbpresent": {
     "id": "5e5ef64d-692e-4935-bcf8-8aefff52c384"
    }
   },
   "source": [
    "Useful utility function"
   ]
  },
  {
   "cell_type": "code",
   "execution_count": 3,
   "metadata": {
    "nbpresent": {
     "id": "71e23afe-a5a6-4888-8fbb-574af66c9ed1"
    }
   },
   "outputs": [],
   "source": [
    "import cv2\n",
    "cvim2disp = cv2.imread('zebra.bmp')\n",
    "def mycvshow(imagein, title='NICE IMAGE TITEL'): #title can be specified or left to the default\n",
    "    cv2.imshow(title,imagein)\n",
    "    cv2.waitKey(0)\n",
    "    cv2.destroyAllWindows()\n",
    "\n",
    "#we'll use this later, but for the most part we'll display inline\n",
    "mycvshow(cvim2disp)"
   ]
  }
 ],
 "metadata": {
  "anaconda-cloud": {},
  "kernelspec": {
   "display_name": "Python 3",
   "language": "python",
   "name": "python3"
  },
  "language_info": {
   "codemirror_mode": {
    "name": "ipython",
    "version": 3
   },
   "file_extension": ".py",
   "mimetype": "text/x-python",
   "name": "python",
   "nbconvert_exporter": "python",
   "pygments_lexer": "ipython3",
   "version": "3.5.2"
  },
  "nbpresent": {
   "slides": {
    "019925b6-3427-4056-b7b3-037d5ada7af0": {
     "id": "019925b6-3427-4056-b7b3-037d5ada7af0",
     "prev": "884850c7-78aa-4ef5-85aa-78e84e04fcbb",
     "regions": {
      "8e599505-bab1-4ed7-98ae-aa13673ffe1e": {
       "attrs": {
        "height": 0.28205128205128205,
        "width": 0.8,
        "x": 0.1,
        "y": 0.1
       },
       "content": {
        "cell": "912cb702-4e13-45e3-be96-8ca5bb075111",
        "part": "whole"
       },
       "id": "8e599505-bab1-4ed7-98ae-aa13673ffe1e"
      },
      "dc527f95-5ef0-44ac-921f-083f4073e6ab": {
       "attrs": {
        "height": 0.2,
        "width": 0.4,
        "x": 0.5,
        "y": 0.7
       },
       "id": "dc527f95-5ef0-44ac-921f-083f4073e6ab"
      },
      "df98168a-6f2a-425e-8fa4-e23c90fc85fe": {
       "attrs": {
        "height": 0.5008547008547009,
        "width": 0.823076923076923,
        "x": 0.10096153846153846,
        "y": 0.43333333333333335
       },
       "content": {
        "cell": "b6b7891d-3c45-408b-b1e0-9ff049e33104",
        "part": "whole"
       },
       "id": "df98168a-6f2a-425e-8fa4-e23c90fc85fe"
      }
     }
    },
    "0b3bb0d8-7b62-45e2-bdea-56d1ddb07065": {
     "id": "0b3bb0d8-7b62-45e2-bdea-56d1ddb07065",
     "prev": "9fd2fc08-8f31-40b1-9c43-bc006b638a09",
     "regions": {
      "8ffac7cb-51dc-4754-9338-e40e26852937": {
       "attrs": {
        "height": 1,
        "width": 1,
        "x": 0,
        "y": 0
       },
       "content": {
        "cell": "89b2c70c-1b84-4f3f-bf48-713d641d25ce",
        "part": "whole"
       },
       "id": "8ffac7cb-51dc-4754-9338-e40e26852937"
      }
     }
    },
    "3a0e5011-0f74-4bc4-b4dd-84d1602d1e4d": {
     "id": "3a0e5011-0f74-4bc4-b4dd-84d1602d1e4d",
     "prev": "7514c99a-224c-4a85-a967-5195636ae76e",
     "regions": {
      "d37cf75d-0732-4701-8ab1-9cd15bc8e80b": {
       "attrs": {
        "height": 1,
        "width": 1,
        "x": 0,
        "y": 0
       },
       "content": {
        "cell": "7426b6e0-8b90-4847-86b7-9507511d807f",
        "part": "whole"
       },
       "id": "d37cf75d-0732-4701-8ab1-9cd15bc8e80b"
      }
     }
    },
    "6833f6d3-659c-4600-9c08-d89984d9ef0d": {
     "id": "6833f6d3-659c-4600-9c08-d89984d9ef0d",
     "prev": "c640b2e3-23c3-406e-a06e-88bc91506535",
     "regions": {
      "35872901-5898-436f-b3fc-fa00fffe05a9": {
       "attrs": {
        "height": 1,
        "width": 1,
        "x": 0,
        "y": 0
       },
       "content": {
        "cell": "ed398bf3-86cf-4a55-ae1d-c8c9b557ef97",
        "part": "whole"
       },
       "id": "35872901-5898-436f-b3fc-fa00fffe05a9"
      }
     }
    },
    "7514c99a-224c-4a85-a967-5195636ae76e": {
     "id": "7514c99a-224c-4a85-a967-5195636ae76e",
     "prev": "0b3bb0d8-7b62-45e2-bdea-56d1ddb07065",
     "regions": {
      "0a2bd284-d113-4f41-ad11-098bd03ac74f": {
       "attrs": {
        "height": 1,
        "width": 1,
        "x": 0,
        "y": 0
       },
       "content": {
        "cell": "1460f643-a4f5-40e8-b2df-588ccf04bbc6",
        "part": "whole"
       },
       "id": "0a2bd284-d113-4f41-ad11-098bd03ac74f"
      }
     }
    },
    "7d81e3c9-81e7-4c29-8022-538a15107a84": {
     "id": "7d81e3c9-81e7-4c29-8022-538a15107a84",
     "prev": "7fabf334-8dfb-4e29-ae1e-f8f321a75e33",
     "regions": {
      "51efe400-52e5-4e34-8685-83fd3618ff49": {
       "attrs": {
        "height": 1,
        "width": 1,
        "x": 0,
        "y": 0
       },
       "content": {
        "cell": "d3975a40-18ac-4026-8a39-b4157cc21d53",
        "part": "whole"
       },
       "id": "51efe400-52e5-4e34-8685-83fd3618ff49"
      }
     }
    },
    "7df09def-93b5-4d91-b080-6e2fae564ee0": {
     "id": "7df09def-93b5-4d91-b080-6e2fae564ee0",
     "prev": "9d0acc82-b4d0-4258-bfcb-54751095872c",
     "regions": {
      "7dc8ff01-1d4b-45a1-a278-7487ce352e48": {
       "attrs": {
        "height": 0.1675213675213675,
        "width": 0.8,
        "x": 0.1,
        "y": 0.1
       },
       "id": "7dc8ff01-1d4b-45a1-a278-7487ce352e48"
      },
      "d9d4dc18-ef7c-4938-8466-6760ebd8ff61": {
       "attrs": {
        "height": 0.2,
        "width": 0.4,
        "x": 0.5,
        "y": 0.7
       },
       "id": "d9d4dc18-ef7c-4938-8466-6760ebd8ff61"
      },
      "ec757ce9-6955-48e4-8dbb-69c023496362": {
       "attrs": {
        "height": 0.5743589743589743,
        "width": 0.8413461538461539,
        "x": 0.1,
        "y": 0.32564102564102565
       },
       "id": "ec757ce9-6955-48e4-8dbb-69c023496362"
      }
     }
    },
    "7fabf334-8dfb-4e29-ae1e-f8f321a75e33": {
     "id": "7fabf334-8dfb-4e29-ae1e-f8f321a75e33",
     "prev": "ca856989-0a9b-4281-83e3-ded0c06af816",
     "regions": {
      "4a6b784d-7fb4-4034-b9c9-e8e3d49ccbdb": {
       "attrs": {
        "height": 1,
        "width": 1,
        "x": 0,
        "y": 0
       },
       "content": {
        "cell": "a1921d95-f5ce-41d6-b399-9a7c5af9cb3c",
        "part": "whole"
       },
       "id": "4a6b784d-7fb4-4034-b9c9-e8e3d49ccbdb"
      }
     }
    },
    "884850c7-78aa-4ef5-85aa-78e84e04fcbb": {
     "id": "884850c7-78aa-4ef5-85aa-78e84e04fcbb",
     "prev": "6833f6d3-659c-4600-9c08-d89984d9ef0d",
     "regions": {
      "288c0e6a-f3ae-4f67-93b6-8a55e9634db1": {
       "attrs": {
        "height": 0.21025641025641026,
        "width": 0.8,
        "x": 0.1,
        "y": 0.1
       },
       "content": {
        "cell": "7fb97c5e-4092-4e4e-8023-b795f49791da",
        "part": "whole"
       },
       "id": "288c0e6a-f3ae-4f67-93b6-8a55e9634db1"
      },
      "4235e07a-e2e1-494e-aa2e-44cb3bc0908b": {
       "attrs": {
        "height": 0.3606837606837607,
        "width": 0.8,
        "x": 0.1,
        "y": 0.3803418803418803
       },
       "content": {
        "cell": "e0937ba9-ac52-4500-9355-f809320da00f",
        "part": "whole"
       },
       "id": "4235e07a-e2e1-494e-aa2e-44cb3bc0908b"
      },
      "adaea460-ec30-45f6-9737-4561f15e31ee": {
       "attrs": {
        "height": 1,
        "width": 1,
        "x": 0,
        "y": 0
       },
       "id": "adaea460-ec30-45f6-9737-4561f15e31ee"
      }
     }
    },
    "9d0acc82-b4d0-4258-bfcb-54751095872c": {
     "id": "9d0acc82-b4d0-4258-bfcb-54751095872c",
     "prev": "019925b6-3427-4056-b7b3-037d5ada7af0",
     "regions": {
      "781dd65e-f4a6-499c-9faa-ad4ff58b0831": {
       "attrs": {
        "height": 0.14017094017094017,
        "width": 0.8,
        "x": 0.1,
        "y": 0.1
       },
       "content": {
        "cell": "fcdb542e-a920-41f2-9b8b-a6fe3b47f4a4",
        "part": "whole"
       },
       "id": "781dd65e-f4a6-499c-9faa-ad4ff58b0831"
      },
      "b3c79e42-7512-4bfd-b2ae-c80a3e377d75": {
       "attrs": {
        "height": 0.6017094017094017,
        "width": 0.8076923076923077,
        "x": 0.1,
        "y": 0.2982905982905983
       },
       "content": {
        "cell": "ae7b3af1-e0c2-4011-8fb6-ae6794c5dfa9",
        "part": "whole"
       },
       "id": "b3c79e42-7512-4bfd-b2ae-c80a3e377d75"
      },
      "ceb2aead-3ab9-410a-b5f0-1e66ef2f5d9d": {
       "attrs": {
        "height": 0.2,
        "width": 0.4,
        "x": 0.5,
        "y": 0.7
       },
       "id": "ceb2aead-3ab9-410a-b5f0-1e66ef2f5d9d"
      }
     }
    },
    "9fd2fc08-8f31-40b1-9c43-bc006b638a09": {
     "id": "9fd2fc08-8f31-40b1-9c43-bc006b638a09",
     "prev": "eb430d24-2743-4147-b4d8-4dfe9fe354f9",
     "regions": {
      "53c2d421-95f8-4bf5-91ce-2bf61fcf4145": {
       "attrs": {
        "height": 1,
        "width": 1,
        "x": 0,
        "y": 0
       },
       "content": {
        "cell": "213eb2b0-b658-46ce-a72f-215a82c5cc7c",
        "part": "whole"
       },
       "id": "53c2d421-95f8-4bf5-91ce-2bf61fcf4145"
      }
     }
    },
    "c640b2e3-23c3-406e-a06e-88bc91506535": {
     "id": "c640b2e3-23c3-406e-a06e-88bc91506535",
     "prev": "3a0e5011-0f74-4bc4-b4dd-84d1602d1e4d",
     "regions": {
      "79a80fb9-9819-4190-b9a3-b0fe1afa1e25": {
       "attrs": {
        "height": 0.8,
        "width": 0.45,
        "x": 0.5,
        "y": 0.1
       },
       "content": {
        "cell": "15f3fbd2-0e7f-4ceb-93c1-8936cdebed7b",
        "part": "whole"
       },
       "id": "79a80fb9-9819-4190-b9a3-b0fe1afa1e25"
      },
      "e05cb8bc-bd5a-4d46-ae12-98c99fdd9779": {
       "attrs": {
        "height": 0.8,
        "width": 0.45,
        "x": 0.05,
        "y": 0.1
       },
       "content": {
        "cell": "5e1738d7-c5be-46f1-a9b0-9d6644551c9e",
        "part": "whole"
       },
       "id": "e05cb8bc-bd5a-4d46-ae12-98c99fdd9779"
      }
     }
    },
    "ca856989-0a9b-4281-83e3-ded0c06af816": {
     "id": "ca856989-0a9b-4281-83e3-ded0c06af816",
     "prev": null,
     "regions": {
      "1975c898-ce9f-41ab-a66e-8308c8b18983": {
       "attrs": {
        "height": 1,
        "width": 1,
        "x": 0,
        "y": 0
       },
       "content": {
        "cell": "eff3a02c-cf13-4c08-b2b3-df48c676159c",
        "part": "whole"
       },
       "id": "1975c898-ce9f-41ab-a66e-8308c8b18983"
      }
     }
    },
    "eb430d24-2743-4147-b4d8-4dfe9fe354f9": {
     "id": "eb430d24-2743-4147-b4d8-4dfe9fe354f9",
     "prev": "7d81e3c9-81e7-4c29-8022-538a15107a84",
     "regions": {
      "5597e743-7b5e-48e7-beb5-0a93c51dd3ed": {
       "attrs": {
        "height": 1,
        "width": 1,
        "x": 0,
        "y": 0
       },
       "content": {
        "cell": "30af4bd1-d2ec-47ec-bd16-aefe3514f0f1",
        "part": "whole"
       },
       "id": "5597e743-7b5e-48e7-beb5-0a93c51dd3ed"
      }
     }
    }
   },
   "themes": {}
  }
 },
 "nbformat": 4,
 "nbformat_minor": 1
}

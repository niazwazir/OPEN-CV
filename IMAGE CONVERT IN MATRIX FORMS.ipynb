{
 "cells": [
  {
   "cell_type": "code",
   "execution_count": 2,
   "metadata": {},
   "outputs": [
    {
     "name": "stdout",
     "output_type": "stream",
     "text": [
      "[[[ 62 139 166]\n",
      "  [ 35  48  56]\n",
      "  [ 26  42  65]\n",
      "  ...\n",
      "  [ 50 115 106]\n",
      "  [ 99 156 141]\n",
      "  [113 189 171]]\n",
      "\n",
      " [[ 50 115 106]\n",
      "  [ 43 100 139]\n",
      "  [ 24  24  38]\n",
      "  ...\n",
      "  [ 82 132 114]\n",
      "  [123 155 130]\n",
      "  [ 57 124 117]]\n",
      "\n",
      " [[ 32  64  75]\n",
      "  [ 48 107 123]\n",
      "  [ 23  42  50]\n",
      "  ...\n",
      "  [ 92  82  98]\n",
      "  [ 65  83  82]\n",
      "  [ 40  74  97]]\n",
      "\n",
      " ...\n",
      "\n",
      " [[161 138 116]\n",
      "  [129 148 115]\n",
      "  [132 140 117]\n",
      "  ...\n",
      "  [ 49  66  87]\n",
      "  [ 57  82  92]\n",
      "  [ 57  75  74]]\n",
      "\n",
      " [[170 150 115]\n",
      "  [158 137 116]\n",
      "  [131 131 115]\n",
      "  ...\n",
      "  [ 66  76  64]\n",
      "  [ 64  74  74]\n",
      "  [ 64  57  64]]\n",
      "\n",
      " [[170 150 115]\n",
      "  [158 137 116]\n",
      "  [131 131 115]\n",
      "  ...\n",
      "  [ 66  76  64]\n",
      "  [ 64  74  74]\n",
      "  [ 64  57  64]]]\n"
     ]
    }
   ],
   "source": [
    "import cv2\n",
    "imgpath = \"/home/wazir/ABC/CASIS-OpenCV-Course/Python-OpenCV3/Dataset/mandril_color.tif\"\n",
    "img = cv2.imread(imgpath)\n",
    "print(img)"
   ]
  },
  {
   "cell_type": "code",
   "execution_count": 4,
   "metadata": {},
   "outputs": [
    {
     "name": "stdout",
     "output_type": "stream",
     "text": [
      "<class 'numpy.ndarray'>\n"
     ]
    }
   ],
   "source": [
    "import cv2\n",
    "imgpath = \"/home/wazir/ABC/CASIS-OpenCV-Course/Python-OpenCV3/Dataset/mandril_color.tif\"\n",
    "img = cv2.imread(imgpath)\n",
    "print(type(img))"
   ]
  },
  {
   "cell_type": "markdown",
   "metadata": {},
   "source": [
    "# <class 'numpy.ndarray'> it is N dimensional array of composite data type\n",
    "Numpy = Numerical Python"
   ]
  },
  {
   "cell_type": "markdown",
   "metadata": {},
   "source": [
    "# uint8 = un signed integer of 8 bits\n",
    "minimum value = 00000000 in binary, 0x00 hexadecimal, 0 in decimal\n",
    "maximum vale = 11111111 in binary,  0xFF hexadecimal, 255\n",
    "so all values less than 255 in image matrix"
   ]
  },
  {
   "cell_type": "code",
   "execution_count": null,
   "metadata": {},
   "outputs": [],
   "source": []
  }
 ],
 "metadata": {
  "kernelspec": {
   "display_name": "Python 3",
   "language": "python",
   "name": "python3"
  },
  "language_info": {
   "codemirror_mode": {
    "name": "ipython",
    "version": 3
   },
   "file_extension": ".py",
   "mimetype": "text/x-python",
   "name": "python",
   "nbconvert_exporter": "python",
   "pygments_lexer": "ipython3",
   "version": "3.5.2"
  }
 },
 "nbformat": 4,
 "nbformat_minor": 2
}
